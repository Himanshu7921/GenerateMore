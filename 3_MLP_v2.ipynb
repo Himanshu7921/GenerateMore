{
 "cells": [
  {
   "cell_type": "markdown",
   "id": "6863ec8e",
   "metadata": {},
   "source": [
    "## Addressing Issues in the Previous MLP-based Approach\n",
    "\n",
    "* **Problem:**\n",
    "\n",
    "  * The model’s initial loss was observed to be approximately **27.051**, which is abnormally high.\n",
    "  * In a worst-case scenario, if the model outputs a uniform probability distribution over the vocabulary (i.e., each token has probability $\\frac{1}{27}$), the expected cross-entropy loss should be:\n",
    "\n",
    "  $$\n",
    "  \\mathcal{L} = -\\log\\left(\\frac{1}{27}\\right) \\approx 3.2958\n",
    "  $$\n",
    "\n",
    "  * Hence, the observed loss is far greater than the theoretical baseline, indicating poor initialization of the output layer parameters.\n",
    "\n",
    "* **Solution:**\n",
    "\n",
    "  * To stabilize training and align the model’s initial behavior closer to a uniform distribution, the **logits** should be initialized near zero.\n",
    "  * This can be achieved by carefully initializing the final layer’s **weights** and **biases** close to zero, ensuring that the model does not start with extremely skewed or saturated probabilities."
   ]
  },
  {
   "cell_type": "code",
   "execution_count": 1,
   "id": "260a90a0",
   "metadata": {},
   "outputs": [],
   "source": [
    "import torch\n",
    "import torch.nn.functional as F\n",
    "import matplotlib.pyplot as plt"
   ]
  },
  {
   "cell_type": "code",
   "execution_count": 2,
   "id": "ff97d60e",
   "metadata": {},
   "outputs": [
    {
     "data": {
      "text/plain": [
       "['emma',\n",
       " 'olivia',\n",
       " 'ava',\n",
       " 'isabella',\n",
       " 'sophia',\n",
       " 'charlotte',\n",
       " 'mia',\n",
       " 'amelia',\n",
       " 'harper',\n",
       " 'evelyn']"
      ]
     },
     "execution_count": 2,
     "metadata": {},
     "output_type": "execute_result"
    }
   ],
   "source": [
    "words = open('names.txt', mode = 'r', encoding='utf-8').read().splitlines()\n",
    "words[:10]"
   ]
  },
  {
   "cell_type": "code",
   "execution_count": 3,
   "id": "7ae1edf3",
   "metadata": {},
   "outputs": [],
   "source": [
    "chars = sorted(list(set(''.join(words))))\n",
    "stoi = {c:i+1 for i, c in enumerate(chars)}\n",
    "stoi['.'] = 0\n",
    "itos = {i:c for c, i in stoi.items()}"
   ]
  },
  {
   "cell_type": "code",
   "execution_count": 4,
   "id": "0efab93b",
   "metadata": {},
   "outputs": [],
   "source": [
    "x, y = [], []\n",
    "block_size = 3\n",
    "for w in words:\n",
    "    # print(w)\n",
    "    context = [0] * block_size\n",
    "    for ch in w + '.':\n",
    "        idx = stoi[ch]\n",
    "        x.append(context)\n",
    "        y.append(idx)\n",
    "        # print(f\"{''.join([itos[i] for i in context])} --> {itos[idx]}\")\n",
    "        context = context[1:] + [idx]\n",
    "x, y = torch.tensor(x), torch.tensor(y)"
   ]
  },
  {
   "cell_type": "code",
   "execution_count": 5,
   "id": "d786da17",
   "metadata": {},
   "outputs": [],
   "source": [
    "def generate_dataset(words):\n",
    "    x, y = [], []\n",
    "    block_size = 3\n",
    "    for w in words:\n",
    "        # print(w)\n",
    "        context = [0] * block_size\n",
    "        for ch in w + '.':\n",
    "            idx = stoi[ch]\n",
    "            x.append(context)\n",
    "            y.append(idx)\n",
    "            # print(f\"{''.join([itos[i] for i in context])} --> {itos[idx]}\")\n",
    "            context = context[1:] + [idx]\n",
    "    x, y = torch.tensor(x), torch.tensor(y)\n",
    "    return x, y\n",
    "\n",
    "def get_split(data, train_split: float, test_split: float, val_split: float):\n",
    "    import random\n",
    "    random.seed(42)\n",
    "\n",
    "    if (train_split + test_split + val_split) != 1:\n",
    "        raise ValueError(\"All splits must sum to 100% of the data\")\n",
    "    else: \n",
    "        random.shuffle(data)\n",
    "        n1 = int(train_split* len(data))\n",
    "        n2 = int((train_split + val_split) * len(data))\n",
    "        x_train, y_train = generate_dataset(data[:n1])\n",
    "        x_val, y_val = generate_dataset(data[n1:n2])\n",
    "        x_test, y_test = generate_dataset(data[n2:])\n",
    "\n",
    "        return x_train, y_train, x_val, y_val, x_test, y_test\n",
    "\n",
    "x_train, y_train, x_val, y_val, x_test, y_test = get_split(data = words, train_split = 0.8, test_split = 0.1, val_split = 0.1)"
   ]
  },
  {
   "cell_type": "markdown",
   "id": "8c95a33b",
   "metadata": {},
   "source": [
    "## Implementing the Look-up Table\n",
    "- According to the Research Paper, they implemented a look-up table to map their 27K input vector space into a 30-dimensional vector space.  \n",
    "- In my case, I will create a look-up table that transforms my 27-dimensional vector space into a 2-dimensional vector space."
   ]
  },
  {
   "cell_type": "code",
   "execution_count": null,
   "id": "14572ada",
   "metadata": {},
   "outputs": [
    {
     "name": "stdout",
     "output_type": "stream",
     "text": [
      "Total Trainable Parameters with current settings = 11897\n"
     ]
    }
   ],
   "source": [
    "g = torch.Generator().manual_seed(42)\n",
    "C = torch.randn((27, 10), generator = g, requires_grad = True) # Look-up table\n",
    "out_features = 200  \n",
    "n_classes = 27\n",
    "emb = C[x_train]\n",
    "lr = 0.1\n",
    "\n",
    "# Layer-1\n",
    "weight_1 = torch.randn(((emb.shape[1] * emb.shape[2]), out_features), generator = g, requires_grad = True)\n",
    "bias_1 = torch.randn(out_features, generator = g, requires_grad = True)\n",
    "\n",
    "# Layer-2\n",
    "weight_2 = torch.nn.Parameter(0.01 * torch.randn((out_features, n_classes))) # Reduced the weight_2\n",
    "bias_2 = torch.zeros(n_classes, requires_grad = True) # set bias_2 to zero to ensure that the logits will come close to 0\n",
    "\n",
    "# Hidden Layer\n",
    "hidden_layer_1_output = None\n",
    "\n",
    "# Parameters counting\n",
    "parameters = [C, weight_1, weight_2, bias_1, bias_2]\n",
    "for p in parameters:\n",
    "    p.requires_grad = True\n",
    "n_parameters = sum(p.nelement() for p in parameters)\n",
    "print(f\"Total Trainable Parameters with current settings = {n_parameters}\")"
   ]
  },
  {
   "cell_type": "code",
   "execution_count": 7,
   "id": "56d027e9",
   "metadata": {},
   "outputs": [
    {
     "name": "stdout",
     "output_type": "stream",
     "text": [
      "0 / 200000: Loss = 3.337\n",
      "10500 / 200000: Loss = 2.047\n",
      "21000 / 200000: Loss = 2.626\n",
      "31500 / 200000: Loss = 2.447\n",
      "42000 / 200000: Loss = 1.542\n",
      "52500 / 200000: Loss = 2.158\n",
      "63000 / 200000: Loss = 2.054\n",
      "73500 / 200000: Loss = 2.148\n",
      "84000 / 200000: Loss = 1.790\n",
      "94500 / 200000: Loss = 1.981\n",
      "105000 / 200000: Loss = 2.002\n",
      "115500 / 200000: Loss = 2.157\n",
      "126000 / 200000: Loss = 2.119\n",
      "136500 / 200000: Loss = 1.796\n",
      "147000 / 200000: Loss = 1.679\n",
      "157500 / 200000: Loss = 2.135\n",
      "168000 / 200000: Loss = 2.157\n",
      "178500 / 200000: Loss = 2.128\n",
      "189000 / 200000: Loss = 1.744\n",
      "199500 / 200000: Loss = 2.296\n"
     ]
    }
   ],
   "source": [
    "epochs = []\n",
    "loss_i = []\n",
    "max_steps = 200000\n",
    "for i in range(max_steps):\n",
    "    # Mini-batch generation\n",
    "    rand_idx = torch.randint(0, x_train.shape[0], (32,))\n",
    "\n",
    "    # Forward pass\n",
    "    # Layer-1:\n",
    "    emb = C[x_train[rand_idx]]\n",
    "    layer_1_output = (emb.view(-1, 30) @ weight_1) + bias_1\n",
    "    hidden_layer_1_output = torch.tanh(layer_1_output)\n",
    "\n",
    "    # Layer-2:\n",
    "    layer_2_output = (hidden_layer_1_output @ weight_2) + bias_2\n",
    "    logits = layer_2_output\n",
    "\n",
    "    # Evaluating Loss\n",
    "    loss = F.cross_entropy(logits, y_train[rand_idx])\n",
    "\n",
    "    # if i % 500 == 0:\n",
    "    #     print(f\"Epoch-{i+100} Loss: {loss:.3f}\")\n",
    "\n",
    "    # Backward pass\n",
    "    for p in parameters:\n",
    "        p.grad = None\n",
    "\n",
    "    # Updating the Model's \n",
    "    lr = 0.1 if i < 100000 else 0.01\n",
    "    loss.backward()\n",
    "    for p in parameters:\n",
    "        p.data -= lr * p.grad\n",
    "    \n",
    "    if i % 10500 == 0:\n",
    "        print(f\"{i} / {max_steps}: Loss = {loss:.3f}\")\n",
    "    epochs.append(i)\n",
    "    loss_i.append(loss.item())"
   ]
  },
  {
   "cell_type": "code",
   "execution_count": 8,
   "id": "f6897dac",
   "metadata": {},
   "outputs": [
    {
     "data": {
      "text/plain": [
       "[<matplotlib.lines.Line2D at 0x161d92296f0>]"
      ]
     },
     "execution_count": 8,
     "metadata": {},
     "output_type": "execute_result"
    },
    {
     "data": {
      "image/png": "[encoded data removed]",
      "text/plain": [
       "<Figure size 640x480 with 1 Axes>"
      ]
     },
     "metadata": {},
     "output_type": "display_data"
    }
   ],
   "source": [
    "plt.plot(epochs, loss_i)"
   ]
  },
  {
   "cell_type": "code",
   "execution_count": 9,
   "id": "9fd9fe9d",
   "metadata": {},
   "outputs": [
    {
     "name": "stdout",
     "output_type": "stream",
     "text": [
      "Loss on val split = 2.1341588497161865\n",
      "Loss on test split = 2.1283059120178223\n",
      "Loss on train split = 2.067924976348877\n"
     ]
    }
   ],
   "source": [
    "# Evaluate the loss on validation test\n",
    "def eval_loss(split):\n",
    "    if split == \"train\":\n",
    "        x_data, y_data = x_train, y_train\n",
    "    elif split == \"test\":\n",
    "        x_data, y_data = x_test, y_test\n",
    "    elif split == \"val\":\n",
    "        x_data, y_data = x_val, y_val\n",
    "    else:\n",
    "        raise ValueError(\"split must be 'train', 'test', or 'val'\")\n",
    "\n",
    "    emb = C[x_data]\n",
    "    hidden_layer_output = torch.tanh((emb.view(-1, 30) @ weight_1) + bias_1)\n",
    "    logits = (hidden_layer_output @ weight_2) + bias_2\n",
    "    loss_val = F.cross_entropy(logits, y_data)\n",
    "    print(f\"Loss on {split} split = {loss_val}\")\n",
    "    return loss_val\n",
    "\n",
    "val_loss = eval_loss('val')\n",
    "test_loss = eval_loss('test')\n",
    "train_loss = eval_loss('train')"
   ]
  },
  {
   "cell_type": "markdown",
   "id": "d797f12c",
   "metadata": {},
   "source": [
    "## Predictions of our Model"
   ]
  },
  {
   "cell_type": "code",
   "execution_count": 10,
   "id": "2a808dbe",
   "metadata": {},
   "outputs": [
    {
     "name": "stdout",
     "output_type": "stream",
     "text": [
      "yansy.\n",
      "haviah.\n",
      "kelle.\n",
      "khalei.\n",
      "nya.\n",
      "tryckendeen.\n",
      "emberlyn.\n",
      "jian.\n",
      "abdeles.\n",
      "lon.\n",
      "tou.\n",
      "ality.\n",
      "mauz.\n",
      "lannezalexsenalay.\n",
      "xaina.\n",
      "luna.\n",
      "adari.\n",
      "zerianne.\n",
      "neh.\n",
      "baymontrei.\n"
     ]
    }
   ],
   "source": [
    "g = torch.Generator().manual_seed(42)\n",
    "\n",
    "for _ in range(20):\n",
    "    out = []\n",
    "    context = [0] * block_size\n",
    "    while True:\n",
    "        emb = C[torch.tensor([context])]\n",
    "        hidden_layer_output = torch.tanh(emb.view(1, -1) @ weight_1 + bias_1)\n",
    "        logits = hidden_layer_output @ weight_2 + bias_2\n",
    "        probs = F.softmax(logits, dim = 1)\n",
    "        idx = torch.multinomial(probs, num_samples=1, generator=g).item()\n",
    "        context = context[1:] + [idx]\n",
    "        out.append(idx)\n",
    "        if idx == 0:\n",
    "            break\n",
    "    \n",
    "    print(''.join(itos[i] for i in out))"
   ]
  }
 ],
 "metadata": {
  "kernelspec": {
   "display_name": "Python 3",
   "language": "python",
   "name": "python3"
  },
  "language_info": {
   "codemirror_mode": {
    "name": "ipython",
    "version": 3
   },
   "file_extension": ".py",
   "mimetype": "text/x-python",
   "name": "python",
   "nbconvert_exporter": "python",
   "pygments_lexer": "ipython3",
   "version": "3.10.10"
  }
 },
 "nbformat": 4,
 "nbformat_minor": 5
}
