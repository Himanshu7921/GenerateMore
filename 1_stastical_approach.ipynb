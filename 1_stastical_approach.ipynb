{
 "cells": [
  {
   "cell_type": "markdown",
   "id": "e26ba9c3",
   "metadata": {},
   "source": [
    "# Generate More\n",
    "#### This Generate more is like saying, \"Make More of these that sounds like this\"\n",
    "\n",
    "- Under the hood, generate more is a character level language model\n",
    "- Character level language model means, it will predict next character based on the previous characters\n",
    "\n",
    "## Current language models are:\n",
    "- Bigrams\n",
    "- Bag of words\n",
    "- MLP\n",
    "- RNN\n",
    "- GRU\n",
    "- Transformers"
   ]
  },
  {
   "cell_type": "markdown",
   "id": "a0378dee",
   "metadata": {},
   "source": [
    "# Part-1: Stastical Approach"
   ]
  },
  {
   "cell_type": "markdown",
   "id": "3aab52ba",
   "metadata": {},
   "source": [
    "### What is **Statistical Approach**\n",
    "\n",
    "1. **Character-Level Bigram Representation**:\n",
    "   The model captures dependencies between consecutive characters by constructing a bigram count matrix `N`, where each entry `N[i, j]` records how often character *j* follows character *i* in the training corpus.\n",
    "\n",
    "2. **Probability Distribution Estimation**:\n",
    "   By normalizing the bigram count matrix row-wise, we transform raw frequencies into conditional probability distributions `P(next_char | current_char)`. This represents a **maximum likelihood estimation** of the bigram probabilities.\n",
    "\n",
    "3. **Generative Process**:\n",
    "   Text generation is performed by sampling characters sequentially from the learned probability distributions using multinomial sampling, starting from a special start-of-sequence token and terminating at an end-of-sequence token.\n",
    "\n",
    "4. **Purely Statistical Nature**:\n",
    "   This approach does not involve trainable parameters or gradient-based optimization. It is purely **statistical modeling** based on co-occurrence counts from the dataset.\n",
    "\n",
    "5. **Advantages & Limitations**:\n",
    "\n",
    "   * Advantage: Simple, interpretable, and directly based on corpus statistics.\n",
    "   * Limitation: Cannot generalize beyond observed bigrams; lacks the ability to capture higher-order dependencies or semantic structure.\n",
    "\n",
    "6. **Baseline for Neural Models**:\n",
    "   The statistical bigram model provides a foundational baseline. It highlights the limitations of count-based approaches, motivating the shift toward **neural network-based language models** that learn distributed representations and optimize via loss functions."
   ]
  },
  {
   "cell_type": "code",
   "execution_count": 29,
   "id": "2abbc9fb",
   "metadata": {},
   "outputs": [],
   "source": [
    "# load the dataset\n",
    "words = open('names.txt', 'r').read().splitlines()"
   ]
  },
  {
   "cell_type": "code",
   "execution_count": 30,
   "id": "7ccde0d2",
   "metadata": {},
   "outputs": [
    {
     "name": "stdout",
     "output_type": "stream",
     "text": [
      "['emma', 'olivia', 'ava', 'isabella', 'sophia', 'charlotte', 'mia', 'amelia', 'harper', 'evelyn']\n"
     ]
    }
   ],
   "source": [
    "print(words[:10])"
   ]
  },
  {
   "cell_type": "code",
   "execution_count": 31,
   "id": "277ca4a8",
   "metadata": {},
   "outputs": [
    {
     "data": {
      "text/plain": [
       "32033"
      ]
     },
     "execution_count": 31,
     "metadata": {},
     "output_type": "execute_result"
    }
   ],
   "source": [
    "len(words)"
   ]
  },
  {
   "cell_type": "code",
   "execution_count": 32,
   "id": "fc56ba78",
   "metadata": {},
   "outputs": [],
   "source": [
    "biagram_count = dict()\n",
    "for w in words:\n",
    "    chars = [\"<S>\"] + list(w) + [\"<E>\"]\n",
    "    for ch1, ch2 in zip(chars, chars[1:]):\n",
    "        bigram = (ch1, ch2)\n",
    "        biagram_count[bigram] = biagram_count.get(bigram, 0) + 1"
   ]
  },
  {
   "cell_type": "code",
   "execution_count": 33,
   "id": "7b674f54",
   "metadata": {},
   "outputs": [],
   "source": [
    "import torch"
   ]
  },
  {
   "cell_type": "code",
   "execution_count": 34,
   "id": "6448cf9b",
   "metadata": {},
   "outputs": [],
   "source": [
    "N = torch.zeros((27, 27), dtype=torch.int32)"
   ]
  },
  {
   "cell_type": "code",
   "execution_count": 35,
   "id": "6796d8cc",
   "metadata": {},
   "outputs": [],
   "source": [
    "chars = sorted(list(set(''.join(words))))"
   ]
  },
  {
   "cell_type": "code",
   "execution_count": 36,
   "id": "2b8976bc",
   "metadata": {},
   "outputs": [],
   "source": [
    "stoi = {s:i+1 for i, s in enumerate(chars)}\n",
    "stoi['.'] = 0\n",
    "itos = {i:s for s, i in stoi.items()}\n",
    "\n",
    "# stoi = StringToInteger\n",
    "# itos = IntegerToString"
   ]
  },
  {
   "cell_type": "code",
   "execution_count": 37,
   "id": "6cf05aa0",
   "metadata": {},
   "outputs": [],
   "source": [
    "for w in words:\n",
    "    chars = [\".\"] + list(w) + [\".\"]\n",
    "    for ch1, ch2 in zip(chars, chars[1:]):\n",
    "        idx1 = stoi[ch1]\n",
    "        idx2 = stoi[ch2]\n",
    "        N[idx1, idx2] += 1"
   ]
  },
  {
   "cell_type": "markdown",
   "id": "da32ffed",
   "metadata": {},
   "source": [
    "## Visualizing the Bigram Count Tensor\n",
    "\n",
    "* I’ve created a tensor that represents the frequency of word pairings. For example, if the bigram is `'ab'`, the tensor shows how many times `'b'` follows `'a'` in our corpus."
   ]
  },
  {
   "cell_type": "code",
   "execution_count": 38,
   "id": "11c95062",
   "metadata": {},
   "outputs": [
    {
     "data": {
      "text/plain": [
       "<matplotlib.image.AxesImage at 0x2597ea11180>"
      ]
     },
     "execution_count": 38,
     "metadata": {},
     "output_type": "execute_result"
    },
    {
     "data": {
      "image/png": "[encoded data removed]",
      "text/plain": [
       "<Figure size 640x480 with 1 Axes>"
      ]
     },
     "metadata": {},
     "output_type": "display_data"
    }
   ],
   "source": [
    "import matplotlib.pyplot as plt\n",
    "plt.imshow(N)"
   ]
  },
  {
   "cell_type": "code",
   "execution_count": null,
   "id": "2f110536",
   "metadata": {},
   "outputs": [
    {
     "data": {
      "text/plain": [
       "(-0.5, 26.5, 26.5, -0.5)"
      ]
     },
     "execution_count": 39,
     "metadata": {},
     "output_type": "execute_result"
    }
   ],
   "source": [
    "plt.figure(figsize=(16, 16))\n",
    "plt.imshow(N, cmap='Blues')\n",
    "for i in range(27):\n",
    "    for j in range(27):\n",
    "        chars = itos[i] + itos[j]\n",
    "        plt.text(j, i, chars, ha = 'center', va = 'bottom')\n",
    "        plt.text(j, i, N[i, j].item(), ha = 'center', va = 'top')\n",
    "plt.axis('off')"
   ]
  },
  {
   "cell_type": "markdown",
   "id": "f337bb23",
   "metadata": {},
   "source": [
    "## Random garbage results of the model"
   ]
  },
  {
   "cell_type": "code",
   "execution_count": null,
   "id": "86d17a8b",
   "metadata": {},
   "outputs": [
    {
     "name": "stdout",
     "output_type": "stream",
     "text": [
      "yeosyohlvfbgqqdlxgktsmzmgwnyb.\n",
      "tryvwdxchwndenbedlppmjiaeqybkejmszqsqgtoyzjovtkimpupooznnyzujfosjvslrumxtonaclpgcyaqxknvzioiuqrtensqvgsumjqwqeioionyyrmnyctrjzdwtyazxdbpnftaauzyskakoth.\n",
      "eyumwlni.\n",
      "zripawaejtxpoxkelygylxsqfdcnidebwfmbiaaewbtorpaclulyaixbxsmpsvqccgkmbr.\n",
      "bcqfmfdvushlqqaspiaycg.\n"
     ]
    }
   ],
   "source": [
    "generator = torch.Generator().manual_seed(42)\n",
    "\n",
    "for i in range(5):\n",
    "    idx = 0\n",
    "    while True:\n",
    "        p = torch.ones(27)\n",
    "        p = p / p.sum()\n",
    "        idx = torch.multinomial(p, num_samples=1, generator=generator, replacement=True).item()\n",
    "        print(''.join(itos[idx]), end = '')\n",
    "        if idx == 0:\n",
    "            break\n",
    "    \n",
    "    print()"
   ]
  },
  {
   "cell_type": "markdown",
   "id": "edc03bd7",
   "metadata": {},
   "source": [
    "## Producing Initial Words from the Statistical Model"
   ]
  },
  {
   "cell_type": "code",
   "execution_count": null,
   "id": "6a9d0ad5",
   "metadata": {},
   "outputs": [
    {
     "name": "stdout",
     "output_type": "stream",
     "text": [
      "ynelinarahuminn.\n",
      "mexa.\n",
      "r.\n",
      "blesonshlladiyn.\n",
      "leeieloteeceniabanailianavar.\n",
      "ayn.\n",
      "adena.\n",
      "id.\n",
      "hangllie.\n",
      "n.\n",
      "meela.\n",
      "ja.\n",
      "joy.\n",
      "kly.\n",
      "jonlizas.\n",
      "onassa.\n",
      "era.\n",
      "a.\n",
      "ahyamusali.\n",
      "iemronayoh.\n"
     ]
    }
   ],
   "source": [
    "P = N.float()\n",
    "P /= P.sum(dim=1, keepdim=True)\n",
    "\n",
    "# Setting up the generator\n",
    "generator = torch.Generator().manual_seed(42)\n",
    "for i in range(20):\n",
    "    idx = 0\n",
    "    while True:\n",
    "        p = P[idx]\n",
    "        idx = torch.multinomial(p, num_samples=1, replacement=True).item()\n",
    "        print(''.join(itos[idx]), end = '')\n",
    "        if idx == 0:\n",
    "            break\n",
    "    print()"
   ]
  },
  {
   "cell_type": "markdown",
   "id": "7554746a",
   "metadata": {},
   "source": [
    "## **Conclusion:**\n",
    "* I trained a bigram language model based purely on statistical analysis of word occurrences and bigram counts.\n",
    "* Although the model’s output doesn’t produce meaningful words, it still performs better than completely random results.\n"
   ]
  },
  {
   "cell_type": "markdown",
   "id": "35caaaa9",
   "metadata": {},
   "source": [
    "## Now, let’s evaluate our model’s performance by examining its loss.\n",
    "\n",
    "**Goal:**\n",
    "1. Maximize the likelihood of the data with respect to the model’s parameters (statistical modeling).\n",
    "2. This is equivalent to maximizing the log-likelihood.\n",
    "3. Which, in turn, is equivalent to minimizing the negative log-likelihood.\n",
    "4. Finally, this reduces to minimizing the average negative log-likelihood.\n",
    "\n",
    "### Conclusion: \n",
    "- These optimization formulations are mathematically equivalent representations of the same objective.\n",
    "- Incorporating the loss function allows us to quantify the quality of our model’s predictions."
   ]
  },
  {
   "cell_type": "code",
   "execution_count": null,
   "id": "ff736ea1",
   "metadata": {},
   "outputs": [
    {
     "name": "stdout",
     "output_type": "stream",
     "text": [
      "log likelihood = -559891.75\n",
      "negavtive log likelihood (Loss Function) = 559891.7500\n",
      "Average of negative log likelihood = 2.4541\n"
     ]
    }
   ],
   "source": [
    "log_likelihood = 0.0\n",
    "n = 0\n",
    "for w in words:\n",
    "    chars = ['.'] + list(w) + ['.']\n",
    "    for ch1, ch2 in zip(chars, chars[1:]):\n",
    "        bigram = (ch1, ch2) \n",
    "        idx1 = stoi[ch1]\n",
    "        idx2 = stoi[ch2]\n",
    "        prob = P[idx1, idx2]\n",
    "        logprob = torch.log(prob)\n",
    "        log_likelihood += logprob\n",
    "        negative_log_likelihood = -log_likelihood\n",
    "        n += 1\n",
    "        # print(f\"P({bigram}) = {prob:.4f} | logprob = {logprob:.4f}\") # for better log\n",
    "\n",
    "print(f\"log likelihood = {log_likelihood}\")\n",
    "print(f\"negavtive log likelihood (Loss Function) = {(negative_log_likelihood):.4f}\")\n",
    "avg_statical_loss = negative_log_likelihood/n\n",
    "print(f\"Average of negative log likelihood = {avg_statical_loss:.4f}\")"
   ]
  }
 ],
 "metadata": {
  "kernelspec": {
   "display_name": "Python 3",
   "language": "python",
   "name": "python3"
  },
  "language_info": {
   "codemirror_mode": {
    "name": "ipython",
    "version": 3
   },
   "file_extension": ".py",
   "mimetype": "text/x-python",
   "name": "python",
   "nbconvert_exporter": "python",
   "pygments_lexer": "ipython3",
   "version": "3.10.10"
  }
 },
 "nbformat": 4,
 "nbformat_minor": 5
}
