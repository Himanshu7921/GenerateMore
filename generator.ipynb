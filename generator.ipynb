{
 "cells": [
  {
   "cell_type": "markdown",
   "id": "e26ba9c3",
   "metadata": {},
   "source": [
    "# Make More\n",
    "#### This Make more is like saying, \"Make More of these that sounds like this\"\n",
    "\n",
    "- Under the hood, make more is a character level language model\n",
    "- Character level language model means, it will predict next character based on the previous characters\n",
    "\n",
    "## Current language models are:\n",
    "- Bigrams\n",
    "- Bag of words\n",
    "- MLP\n",
    "- RNN\n",
    "- GRU\n",
    "- Transformers"
   ]
  },
  {
   "cell_type": "code",
   "execution_count": 3,
   "id": "2abbc9fb",
   "metadata": {},
   "outputs": [],
   "source": [
    "# load the dataset\n",
    "words = open('names.txt', 'r').read().splitlines()"
   ]
  },
  {
   "cell_type": "code",
   "execution_count": 4,
   "id": "7ccde0d2",
   "metadata": {},
   "outputs": [
    {
     "data": {
      "text/plain": [
       "['emma',\n",
       " 'olivia',\n",
       " 'ava',\n",
       " 'isabella',\n",
       " 'sophia',\n",
       " 'charlotte',\n",
       " 'mia',\n",
       " 'amelia',\n",
       " 'harper',\n",
       " 'evelyn']"
      ]
     },
     "execution_count": 4,
     "metadata": {},
     "output_type": "execute_result"
    }
   ],
   "source": [
    "words[:10]"
   ]
  },
  {
   "cell_type": "code",
   "execution_count": null,
   "id": "277ca4a8",
   "metadata": {},
   "outputs": [],
   "source": []
  }
 ],
 "metadata": {
  "kernelspec": {
   "display_name": "Python 3",
   "language": "python",
   "name": "python3"
  },
  "language_info": {
   "codemirror_mode": {
    "name": "ipython",
    "version": 3
   },
   "file_extension": ".py",
   "mimetype": "text/x-python",
   "name": "python",
   "nbconvert_exporter": "python",
   "pygments_lexer": "ipython3",
   "version": "3.10.10"
  }
 },
 "nbformat": 4,
 "nbformat_minor": 5
}
